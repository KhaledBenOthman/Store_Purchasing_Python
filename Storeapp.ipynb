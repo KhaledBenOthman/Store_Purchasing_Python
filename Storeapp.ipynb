{
 "cells": [
  {
   "cell_type": "code",
   "execution_count": null,
   "metadata": {},
   "outputs": [
    {
     "name": "stdout",
     "output_type": "stream",
     "text": [
      "Welcome to our store hope you enjoy our items :) <3 \n",
      "Are you already a member ? <yes/no>no\n",
      "Would you please sign up first\n",
      "\n",
      "\n",
      "Please Enter your user id : mohamed\n",
      "Please enter your password : 12aa\n",
      "Please Enter your current country : egypt\n",
      "Congrats!!!! you are a member now <3 \n",
      "Enjoy our store\n",
      "Please Enter your ID : mohamed\n",
      "\n",
      "Please Enter your password :12aa\n",
      " Welcome To our store !!\n",
      "\n",
      "Press        Category\n",
      "<<<<<<< MAIN CATEGORY >>>>>>>>\n",
      "1        Shoes     \n",
      "2        Jeans     \n",
      "3        Shirts     \n",
      "4        T-shirts     \n",
      "5        Accessories     \n"
     ]
    }
   ],
   "source": [
    "import purchasing as pp\n",
    "pp.welcomeF()\n",
    "pp.checkifRegistered()\n"
   ]
  },
  {
   "cell_type": "code",
   "execution_count": null,
   "metadata": {},
   "outputs": [],
   "source": []
  }
 ],
 "metadata": {
  "kernelspec": {
   "display_name": "Python 3",
   "language": "python",
   "name": "python3"
  },
  "language_info": {
   "codemirror_mode": {
    "name": "ipython",
    "version": 3
   },
   "file_extension": ".py",
   "mimetype": "text/x-python",
   "name": "python",
   "nbconvert_exporter": "python",
   "pygments_lexer": "ipython3",
   "version": "3.8.3-final"
  }
 },
 "nbformat": 4,
 "nbformat_minor": 4
}